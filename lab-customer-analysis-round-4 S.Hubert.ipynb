{
 "cells": [
  {
   "cell_type": "markdown",
   "id": "1bf44f14",
   "metadata": {},
   "source": [
    "# lab-customer-analysis-round-4"
   ]
  },
  {
   "cell_type": "markdown",
   "id": "6de9f7f5",
   "metadata": {},
   "source": [
    "In today's lesson we talked about continuous distributions (mainly normal distribution), linear regression and how multicollinearity can impact the model. In this lab, we will test your knowledge on those things using the `marketing_customer_analysis.csv` file. You have been using the same data in the previous labs (round 2 and 3). You can continue using the same jupyter file. The file can be found in the `files_for_lab` folder.\n"
   ]
  },
  {
   "cell_type": "markdown",
   "id": "6cbb2ba3",
   "metadata": {},
   "source": [
    "**Use the jupyter file from the last lab (Customer Analysis Round 3)**"
   ]
  },
  {
   "cell_type": "markdown",
   "id": "04e8d26d",
   "metadata": {},
   "source": [
    "### 1. Check the data types of the columns. Get the numeric data into dataframe called `numerical` and categorical columns in a dataframe called `categoricals`.\n",
    "**Hint**: You can use np.number and np.object to select the numerical data types and categorical data types respectively\n"
   ]
  },
  {
   "cell_type": "code",
   "execution_count": null,
   "id": "3f6275e4",
   "metadata": {},
   "outputs": [],
   "source": [
    "import pandas as pd\n",
    "import numpy as np"
   ]
  },
  {
   "cell_type": "code",
   "execution_count": null,
   "id": "298bf1c9",
   "metadata": {},
   "outputs": [],
   "source": [
    "data.dtypes"
   ]
  },
  {
   "cell_type": "code",
   "execution_count": null,
   "id": "6145b67d",
   "metadata": {},
   "outputs": [],
   "source": [
    "data.dtypes\n",
    "data._get_numeric_data()\n",
    "\n",
    "\n"
   ]
  },
  {
   "cell_type": "markdown",
   "id": "7b261f10",
   "metadata": {},
   "source": [
    "### 2. Now we will try to check the normality of the numerical variables visually\n",
    "  - Use seaborn library to construct distribution plots for the numerical variables\n",
    "  - Use Matplotlib to construct histograms\n",
    "  - Do the distributions for different numerical variables look like a normal distribution \n"
   ]
  },
  {
   "cell_type": "code",
   "execution_count": null,
   "id": "d71ede7b",
   "metadata": {},
   "outputs": [],
   "source": []
  },
  {
   "cell_type": "markdown",
   "id": "4cacb89e",
   "metadata": {},
   "source": [
    "### 3. For the numerical variables, check the multicollinearity between the features. Please note that we will use the column `total_claim_amount` later as the target variable. \n"
   ]
  },
  {
   "cell_type": "code",
   "execution_count": null,
   "id": "ab08c726",
   "metadata": {},
   "outputs": [],
   "source": []
  },
  {
   "cell_type": "markdown",
   "id": "940e8ede",
   "metadata": {},
   "source": [
    "### 4. Drop one of the two features that show a high correlation between them (greater than 0.9). Write code for both the correlation matrix and for seaborn heatmap. If there is no pair of features that have a high correlation, then do not drop any features"
   ]
  },
  {
   "cell_type": "markdown",
   "id": "fef61407",
   "metadata": {},
   "source": []
  },
  {
   "cell_type": "markdown",
   "id": "2134649a",
   "metadata": {},
   "source": []
  },
  {
   "cell_type": "markdown",
   "id": "b73357d6",
   "metadata": {},
   "source": []
  }
 ],
 "metadata": {
  "kernelspec": {
   "display_name": "Python 3",
   "language": "python",
   "name": "python3"
  },
  "language_info": {
   "codemirror_mode": {
    "name": "ipython",
    "version": 3
   },
   "file_extension": ".py",
   "mimetype": "text/x-python",
   "name": "python",
   "nbconvert_exporter": "python",
   "pygments_lexer": "ipython3",
   "version": "3.8.9"
  }
 },
 "nbformat": 4,
 "nbformat_minor": 5
}
